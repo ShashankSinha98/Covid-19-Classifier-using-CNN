{
 "cells": [
  {
   "cell_type": "code",
   "execution_count": 0,
   "metadata": {
    "colab": {},
    "colab_type": "code",
    "id": "AOkYsBBlu4CW"
   },
   "outputs": [],
   "source": []
  },
  {
   "cell_type": "code",
   "execution_count": 1,
   "metadata": {
    "colab": {
     "base_uri": "https://localhost:8080/",
     "height": 598
    },
    "colab_type": "code",
    "id": "GxDSkwgOvS7x",
    "outputId": "ebc99ad9-caf6-4644-a7da-12e2978be23d"
   },
   "outputs": [
    {
     "name": "stdout",
     "output_type": "stream",
     "text": [
      "--2020-04-29 16:04:42--  http://cb.lk/covid_19\n",
      "Resolving cb.lk (cb.lk)... 159.89.170.74\n",
      "Connecting to cb.lk (cb.lk)|159.89.170.74|:80... connected.\n",
      "HTTP request sent, awaiting response... 301 Moved Permanently\n",
      "Location: https://cb.lk/covid_19 [following]\n",
      "--2020-04-29 16:04:42--  https://cb.lk/covid_19\n",
      "Connecting to cb.lk (cb.lk)|159.89.170.74|:443... connected.\n",
      "HTTP request sent, awaiting response... 302 Found\n",
      "Location: https://www.dropbox.com/s/7rjw6oet4za01op/CovidDataset-20200427T133042Z-001.zip?dl=0 [following]\n",
      "--2020-04-29 16:04:43--  https://www.dropbox.com/s/7rjw6oet4za01op/CovidDataset-20200427T133042Z-001.zip?dl=0\n",
      "Resolving www.dropbox.com (www.dropbox.com)... 162.125.9.1, 2620:100:601f:1::a27d:901\n",
      "Connecting to www.dropbox.com (www.dropbox.com)|162.125.9.1|:443... connected.\n",
      "HTTP request sent, awaiting response... 301 Moved Permanently\n",
      "Location: /s/raw/7rjw6oet4za01op/CovidDataset-20200427T133042Z-001.zip [following]\n",
      "--2020-04-29 16:04:44--  https://www.dropbox.com/s/raw/7rjw6oet4za01op/CovidDataset-20200427T133042Z-001.zip\n",
      "Reusing existing connection to www.dropbox.com:443.\n",
      "HTTP request sent, awaiting response... 302 Found\n",
      "Location: https://uc015456a3a0842741480c8e4b3b.dl.dropboxusercontent.com/cd/0/inline/A2xXrkBzpSGj-VUacH9p9xTN1zm6ndOXTk5g_NQ4Wdt8T5HJawXGl2C2sgRnIXLWfKozMr7rBJmqGqxmrx4Ip3IsNtEzMWHz90CdlQhqvtQ-iEDJ2UvhDglknTcwv_DCz7o/file# [following]\n",
      "--2020-04-29 16:04:44--  https://uc015456a3a0842741480c8e4b3b.dl.dropboxusercontent.com/cd/0/inline/A2xXrkBzpSGj-VUacH9p9xTN1zm6ndOXTk5g_NQ4Wdt8T5HJawXGl2C2sgRnIXLWfKozMr7rBJmqGqxmrx4Ip3IsNtEzMWHz90CdlQhqvtQ-iEDJ2UvhDglknTcwv_DCz7o/file\n",
      "Resolving uc015456a3a0842741480c8e4b3b.dl.dropboxusercontent.com (uc015456a3a0842741480c8e4b3b.dl.dropboxusercontent.com)... 162.125.9.6, 2620:100:601f:6::a27d:906\n",
      "Connecting to uc015456a3a0842741480c8e4b3b.dl.dropboxusercontent.com (uc015456a3a0842741480c8e4b3b.dl.dropboxusercontent.com)|162.125.9.6|:443... connected.\n",
      "HTTP request sent, awaiting response... 302 FOUND\n",
      "Location: /cd/0/inline2/A2wVo5GB77znVB_6n14Iq-ao6HSovvlYXr_Qrs28fxj-PrIkd28nJY5qa4pC3Iv5bn5UQwr1jQyp7oVdJ5IzTTY9HN2vEcA2jkrvlwNjnM3D-hZQUXq5PtFJmXpUZa4BBrMxSpMrew9L7n8Ol1B8G23W0Ohy_PGBmKaHej_E7alWYzNRaBI6PqrF3Q87xfHJMS81TLDNXNhkznRlpimhbPZHkpTI8XEy6283G4g58LT8XR2Bq3_xzOvyKWYfDEIOKTLrbACH0EX4FlGLSwfClZC6sy51cV2ZD3iWOGkXaboHXpy5sQgpmZDlKD-nqdEa0D98jmfH2Ug_8Hz1Ac3q_rhJQg86VYacynAGvlY5Q9YN7Q/file [following]\n",
      "--2020-04-29 16:04:44--  https://uc015456a3a0842741480c8e4b3b.dl.dropboxusercontent.com/cd/0/inline2/A2wVo5GB77znVB_6n14Iq-ao6HSovvlYXr_Qrs28fxj-PrIkd28nJY5qa4pC3Iv5bn5UQwr1jQyp7oVdJ5IzTTY9HN2vEcA2jkrvlwNjnM3D-hZQUXq5PtFJmXpUZa4BBrMxSpMrew9L7n8Ol1B8G23W0Ohy_PGBmKaHej_E7alWYzNRaBI6PqrF3Q87xfHJMS81TLDNXNhkznRlpimhbPZHkpTI8XEy6283G4g58LT8XR2Bq3_xzOvyKWYfDEIOKTLrbACH0EX4FlGLSwfClZC6sy51cV2ZD3iWOGkXaboHXpy5sQgpmZDlKD-nqdEa0D98jmfH2Ug_8Hz1Ac3q_rhJQg86VYacynAGvlY5Q9YN7Q/file\n",
      "Reusing existing connection to uc015456a3a0842741480c8e4b3b.dl.dropboxusercontent.com:443.\n",
      "HTTP request sent, awaiting response... 200 OK\n",
      "Length: 140830621 (134M) [application/zip]\n",
      "Saving to: ‘covid_19’\n",
      "\n",
      "covid_19            100%[===================>] 134.31M  37.4MB/s    in 3.6s    \n",
      "\n",
      "2020-04-29 16:04:49 (37.4 MB/s) - ‘covid_19’ saved [140830621/140830621]\n",
      "\n"
     ]
    }
   ],
   "source": [
    "!wget \"http://cb.lk/covid_19\""
   ]
  },
  {
   "cell_type": "code",
   "execution_count": 2,
   "metadata": {
    "colab": {
     "base_uri": "https://localhost:8080/",
     "height": 1000
    },
    "colab_type": "code",
    "id": "irkzfjgqwNwE",
    "outputId": "780fea5a-da15-4b88-c7e7-ad1409939b4a"
   },
   "outputs": [
    {
     "name": "stdout",
     "output_type": "stream",
     "text": [
      "Archive:  covid_19\n",
      "  inflating: CovidDataset/Val/Covid/88de9d8c39e946abd495b37cd07d89e5-6531-0.jpg  \n",
      "  inflating: CovidDataset/Val/Covid/covid-19-pneumonia-8.jpg  \n",
      "  inflating: CovidDataset/Val/Covid/85E52EB3-56E9-4D67-82DA-DEA247C82886.jpeg  \n",
      "  inflating: CovidDataset/Val/Covid/4-x-day1.jpg  \n",
      "  inflating: CovidDataset/Val/Covid/covid-19-pneumonia-53.jpg  \n",
      "  inflating: CovidDataset/Val/Covid/4e43e48d52c9e2d4c6c1fb9bc1544f_jumbo.jpeg  \n",
      "  inflating: CovidDataset/Val/Covid/covid-19-pneumonia-35-1.jpg  \n",
      "  inflating: CovidDataset/Val/Covid/53EC07C9-5CC6-4BE4-9B6F-D7B0D72AAA7E.jpeg  \n",
      "  inflating: CovidDataset/Val/Covid/6CB4EFC6-68FA-4CD5-940C-BEFA8DAFE9A7.jpeg  \n",
      "  inflating: CovidDataset/Val/Covid/58cb9263f16e94305c730685358e4e_jumbo.jpeg  \n",
      "  inflating: CovidDataset/Val/Covid/6b3bdbc31f65230b8cdcc3cef5f8ba8a-40ac-0.jpg  \n",
      "  inflating: CovidDataset/Val/Covid/auntminnie-d-2020_01_28_23_51_6665_2020_01_28_Vietnam_coronavirus.jpeg  \n",
      "  inflating: CovidDataset/Val/Covid/6b44464d-73a7-4cf3-bbb6-ffe7168300e3.annot.original.jpeg  \n",
      "  inflating: CovidDataset/Val/Covid/88de9d8c39e946abd495b37cd07d89e5-2ee6-0.jpg  \n",
      "  inflating: CovidDataset/Val/Covid/31BA3780-2323-493F-8AED-62081B9C383B.jpeg  \n",
      "  inflating: CovidDataset/Val/Covid/B2D20576-00B7-4519-A415-72DE29C90C34.jpeg  \n",
      "  inflating: CovidDataset/Val/Covid/6C94A287-C059-46A0-8600-AFB95F4727B7.jpeg  \n",
      "  inflating: CovidDataset/Train/Covid/1-s2.0-S1684118220300682-main.pdf-003-b2.png  \n",
      "  inflating: CovidDataset/Val/Covid/41591_2020_819_Fig1_HTML.webp-day5.png  \n",
      "  inflating: CovidDataset/Val/Covid/41591_2020_819_Fig1_HTML.webp-day10.png  \n",
      "  inflating: CovidDataset/Train/Covid/1-s2.0-S1684118220300682-main.pdf-003-b1.png  \n",
      "  inflating: CovidDataset/Val/Covid/16654_2_1.jpg  \n",
      "  inflating: CovidDataset/Train/Covid/nCoV-radiol.2020200269.fig1-day7.jpeg  \n",
      "  inflating: CovidDataset/Val/Covid/auntminnie-c-2020_01_28_23_51_6665_2020_01_28_Vietnam_coronavirus.jpeg  \n",
      "  inflating: CovidDataset/Train/Covid/7-fatal-covid19.jpg  \n",
      "  inflating: CovidDataset/Train/Covid/auntminnie-b-2020_01_28_23_51_6665_2020_01_28_Vietnam_coronavirus.jpeg  \n",
      "  inflating: CovidDataset/Train/Normal/NORMAL2-IM-0986-0001.jpeg  \n",
      "  inflating: CovidDataset/Train/Normal/IM-0332-0001.jpeg  \n",
      "  inflating: CovidDataset/Train/Covid/extubation-13.jpg  \n",
      "  inflating: CovidDataset/Val/Covid/covid-19-pneumonia-35-2.jpg  \n",
      "  inflating: CovidDataset/Train/Normal/NORMAL2-IM-1337-0001.jpeg  \n",
      "  inflating: CovidDataset/Val/Covid/covid-19-pneumonia-12.jpg  \n",
      "  inflating: CovidDataset/Train/Normal/IM-0644-0001-0002.jpeg  \n",
      "  inflating: CovidDataset/Train/Covid/ryct.2020200034.fig5-day7.jpeg  \n",
      "  inflating: CovidDataset/Val/Covid/7AF6C1AF-D249-4BD2-8C26-449304105D03.jpeg  \n",
      "  inflating: CovidDataset/Train/Covid/covid-19-pneumonia-15-PA.jpg  \n",
      "  inflating: CovidDataset/Train/Covid/1-s2.0-S1684118220300608-main.pdf-002.jpg  \n",
      "  inflating: CovidDataset/Train/Normal/IM-0528-0001.jpeg  \n",
      "  inflating: CovidDataset/Train/Covid/80446565-E090-4187-A031-9D3CEAA586C8.jpeg  \n",
      "  inflating: CovidDataset/Train/Covid/1-s2.0-S0929664620300449-gr2_lrg-d.jpg  \n",
      "  inflating: CovidDataset/Train/Covid/covid-19-pneumonia-bilateral.jpg  \n",
      "  inflating: CovidDataset/Train/Normal/NORMAL2-IM-1020-0001-0001.jpeg  \n",
      "  inflating: CovidDataset/Train/Covid/E63574A7-4188-4C8D-8D17-9D67A18A1AFA.jpeg  \n",
      "  inflating: CovidDataset/Train/Normal/IM-0327-0001.jpeg  \n",
      "  inflating: CovidDataset/Train/Covid/AR-1.jpg  \n",
      "  inflating: CovidDataset/Train/Covid/F2DE909F-E19C-4900-92F5-8F435B031AC6.jpeg  \n",
      "  inflating: CovidDataset/Val/Normal/NORMAL2-IM-0851-0001.jpeg  \n",
      "  inflating: CovidDataset/Train/Covid/covid-19-pneumonia-2.jpg  \n",
      "  inflating: CovidDataset/Train/Normal/IM-0539-0001.jpeg  \n",
      "  inflating: CovidDataset/Train/Normal/IM-0495-0001.jpeg  \n",
      "  inflating: CovidDataset/Train/Normal/IM-0533-0001-0002.jpeg  \n",
      "  inflating: CovidDataset/Train/Normal/IM-0724-0001.jpeg  \n",
      "  inflating: CovidDataset/Train/Covid/1.CXRCTThoraximagesofCOVID-19fromSingapore.pdf-001-fig2a.png  \n",
      "  inflating: CovidDataset/Train/Covid/1-s2.0-S0140673620303706-fx1_lrg.jpg  \n",
      "  inflating: CovidDataset/Train/Normal/IM-0491-0001-0002.jpeg  \n",
      "  inflating: CovidDataset/Train/Covid/covid-19-pneumonia-58-day-9.jpg  \n",
      "  inflating: CovidDataset/Train/Normal/IM-0555-0001.jpeg  \n",
      "  inflating: CovidDataset/Train/Covid/1.CXRCTThoraximagesofCOVID-19fromSingapore.pdf-000-fig1b.png  \n",
      "  inflating: CovidDataset/Train/Normal/IM-0326-0001.jpeg  \n",
      "  inflating: CovidDataset/Train/Covid/covid-19-caso-70-1-PA.jpg  \n",
      "  inflating: CovidDataset/Train/Covid/1.CXRCTThoraximagesofCOVID-19fromSingapore.pdf-001-fig2b.png  \n",
      "  inflating: CovidDataset/Val/Normal/NORMAL2-IM-0730-0001.jpeg  \n",
      "  inflating: CovidDataset/Train/Normal/IM-0451-0001.jpeg  \n",
      "  inflating: CovidDataset/Val/Covid/7C69C012-7479-493F-8722-ABC29C60A2DD.jpeg  \n",
      "  inflating: CovidDataset/Train/Covid/16660_2_1.jpg  \n",
      "  inflating: CovidDataset/Train/Covid/1-s2.0-S1684118220300608-main.pdf-001.jpg  \n",
      "  inflating: CovidDataset/Train/Covid/kjr-21-e24-g003-l-a.jpg  \n",
      "  inflating: CovidDataset/Train/Covid/nejmoa2001191_f1-PA.jpeg  \n",
      "  inflating: CovidDataset/Train/Normal/IM-0534-0001.jpeg  \n",
      "  inflating: CovidDataset/Train/Covid/kjr-21-e24-g002-l-a.jpg  \n",
      "  inflating: CovidDataset/Train/Covid/covid-19-pneumonia-38-pa.jpg  \n",
      "  inflating: CovidDataset/Train/Normal/NORMAL2-IM-0529-0001.jpeg  \n",
      "  inflating: CovidDataset/Train/Covid/9C34AF49-E589-44D5-92D3-168B3B04E4A6.jpeg  \n",
      "  inflating: CovidDataset/Train/Normal/IM-0221-0001.jpeg  \n",
      "  inflating: CovidDataset/Val/Normal/NORMAL2-IM-1191-0001.jpeg  \n",
      "  inflating: CovidDataset/Train/Normal/NORMAL2-IM-0831-0001.jpeg  \n",
      "  inflating: CovidDataset/Train/Normal/IM-0500-0001.jpeg  \n",
      "  inflating: CovidDataset/Val/Normal/NORMAL2-IM-1228-0001.jpeg  \n",
      "  inflating: CovidDataset/Train/Covid/extubation-1.jpg  \n",
      "  inflating: CovidDataset/Train/Covid/covid-19-infection-exclusive-gastrointestinal-symptoms-l.png  \n",
      "  inflating: CovidDataset/Val/Normal/NORMAL2-IM-1037-0001.jpeg  \n",
      "  inflating: CovidDataset/Train/Normal/NORMAL2-IM-0956-0001.jpeg  \n",
      "  inflating: CovidDataset/Train/Normal/NORMAL2-IM-0847-0001.jpeg  \n",
      "  inflating: CovidDataset/Train/Normal/IM-0389-0001.jpeg  \n",
      "  inflating: CovidDataset/Train/Normal/IM-0660-0001-0001.jpeg  \n",
      "  inflating: CovidDataset/Train/Covid/16672_1_1.jpg  \n",
      "  inflating: CovidDataset/Train/Normal/IM-0700-0001.jpeg  \n",
      "  inflating: CovidDataset/Train/Normal/NORMAL2-IM-1305-0001.jpeg  \n",
      "  inflating: CovidDataset/Train/Covid/16660_4_1.jpg  \n",
      "  inflating: CovidDataset/Val/Covid/353889E0-A1E8-4F9E-A0B8-F24F36BCFBFB.jpeg  \n",
      "  inflating: CovidDataset/Train/Covid/covid-19-pneumonia-22-day2-pa.png  \n",
      "  inflating: CovidDataset/Train/Normal/IM-0472-0001.jpeg  \n",
      "  inflating: CovidDataset/Train/Normal/NORMAL2-IM-1202-0001.jpeg  \n",
      "  inflating: CovidDataset/Train/Normal/NORMAL2-IM-1188-0001.jpeg  \n",
      "  inflating: CovidDataset/Train/Covid/2C26F453-AF3B-4517-BB9E-802CF2179543.jpeg  \n",
      "  inflating: CovidDataset/Train/Normal/NORMAL2-IM-1290-0001.jpeg  \n",
      "  inflating: CovidDataset/Train/Normal/NORMAL2-IM-1346-0001.jpeg  \n",
      "  inflating: CovidDataset/Train/Normal/NORMAL2-IM-1345-0001-0001.jpeg  \n",
      "  inflating: CovidDataset/Train/Covid/radiol.2020200274.fig3d.png  \n",
      "  inflating: CovidDataset/Train/Normal/IM-0669-0001.jpeg  \n",
      "  inflating: CovidDataset/Train/Normal/IM-0270-0001.jpeg  \n",
      "  inflating: CovidDataset/Train/Covid/covid-19-pneumonia-28.png  \n",
      "  inflating: CovidDataset/Train/Covid/ryct.2020200034.fig2.jpeg  \n",
      "  inflating: CovidDataset/Train/Normal/NORMAL2-IM-1287-0001.jpeg  \n",
      "  inflating: CovidDataset/Train/Covid/1.CXRCTThoraximagesofCOVID-19fromSingapore.pdf-000-fig1a.png  \n",
      "  inflating: CovidDataset/Train/Normal/NORMAL2-IM-0626-0001.jpeg  \n",
      "  inflating: CovidDataset/Train/Normal/IM-0543-0001.jpeg  \n",
      "  inflating: CovidDataset/Val/Normal/NORMAL2-IM-0857-0001.jpeg  \n",
      "  inflating: CovidDataset/Val/Normal/NORMAL2-IM-0905-0001.jpeg  \n",
      "  inflating: CovidDataset/Train/Covid/1-s2.0-S0929664620300449-gr2_lrg-a.jpg  \n",
      "  inflating: CovidDataset/Val/Covid/16654_1_1.png  \n",
      "  inflating: CovidDataset/Train/Covid/kjr-21-e24-g001-l-a.jpg  \n",
      "  inflating: CovidDataset/Train/Normal/IM-0433-0001.jpeg  \n",
      "  inflating: CovidDataset/Train/Covid/covid-19-pneumonia-58-day-10.jpg  \n",
      "  inflating: CovidDataset/Val/Covid/16654_4_1.jpg  \n",
      "  inflating: CovidDataset/Val/Normal/NORMAL2-IM-0790-0001.jpeg  \n",
      "  inflating: CovidDataset/Train/Normal/NORMAL2-IM-1326-0001.jpeg  \n",
      "  inflating: CovidDataset/Train/Normal/IM-0563-0001.jpeg  \n",
      "  inflating: CovidDataset/Train/Covid/ae6c954c0039de4b5edee53865ffee43-e6c8-0.jpg  \n",
      "  inflating: CovidDataset/Val/Covid/23E99E2E-447C-46E5-8EB2-D35D12473C39.png  \n",
      "  inflating: CovidDataset/Train/Covid/gr1_lrg-a.jpg  \n",
      "  inflating: CovidDataset/Train/Normal/IM-0564-0001.jpeg  \n",
      "  inflating: CovidDataset/Train/Normal/NORMAL2-IM-0499-0001.jpeg  \n",
      "  inflating: CovidDataset/Train/Covid/16663_1_1.jpg  \n",
      "  inflating: CovidDataset/Train/Covid/extubation-8.jpg  \n",
      "  inflating: CovidDataset/Train/Covid/paving.jpg  \n",
      "  inflating: CovidDataset/Train/Normal/IM-0529-0001.jpeg  \n",
      "  inflating: CovidDataset/Train/Normal/IM-0425-0001.jpeg  \n",
      "  inflating: CovidDataset/Train/Normal/IM-0439-0001.jpeg  \n",
      "  inflating: CovidDataset/Train/Normal/IM-0491-0001.jpeg  \n",
      "  inflating: CovidDataset/Train/Normal/IM-0337-0001.jpeg  \n",
      "  inflating: CovidDataset/Train/Covid/all14238-fig-0001-m-b.jpg  \n",
      "  inflating: CovidDataset/Train/Covid/covid-19-infection-exclusive-gastrointestinal-symptoms-pa.png  \n",
      "  inflating: CovidDataset/Train/Normal/NORMAL2-IM-1320-0001.jpeg  \n",
      "  inflating: CovidDataset/Train/Covid/1.CXRCTThoraximagesofCOVID-19fromSingapore.pdf-002-fig3b.png  \n",
      "  inflating: CovidDataset/Train/Normal/NORMAL2-IM-0815-0001.jpeg  \n",
      "  inflating: CovidDataset/Train/Covid/nejmoa2001191_f5-PA.jpeg  \n",
      "  inflating: CovidDataset/Train/Normal/NORMAL2-IM-1336-0001.jpeg  \n",
      "  inflating: CovidDataset/Train/Normal/IM-0369-0001.jpeg  \n",
      "  inflating: CovidDataset/Train/Normal/NORMAL2-IM-1300-0001.jpeg  \n",
      "  inflating: CovidDataset/Train/Normal/NORMAL2-IM-1295-0001.jpeg  \n",
      "  inflating: CovidDataset/Train/Normal/NORMAL2-IM-0518-0001.jpeg  \n",
      "  inflating: CovidDataset/Train/Covid/covid-19-pneumonia-34.png  \n",
      "  inflating: CovidDataset/Train/Normal/IM-0385-0001.jpeg  \n",
      "  inflating: CovidDataset/Train/Covid/F63AB6CE-1968-4154-A70F-913AF154F53D.jpeg  \n",
      "  inflating: CovidDataset/Val/Normal/NORMAL2-IM-0842-0001.jpeg  \n",
      "  inflating: CovidDataset/Val/Normal/NORMAL2-IM-0416-0001-0001.jpeg  \n",
      "  inflating: CovidDataset/Val/Normal/NORMAL2-IM-1275-0001.jpeg  \n",
      "  inflating: CovidDataset/Train/Normal/IM-0467-0001.jpeg  \n",
      "  inflating: CovidDataset/Train/Normal/NORMAL2-IM-1344-0001.jpeg  \n",
      "  inflating: CovidDataset/Train/Normal/IM-0301-0001.jpeg  \n",
      "  inflating: CovidDataset/Train/Normal/IM-0421-0001.jpeg  \n",
      "  inflating: CovidDataset/Train/Covid/ryct.2020200034.fig5-day0.jpeg  \n",
      "  inflating: CovidDataset/Train/Covid/covid-19-pneumonia-58-day-3.jpg  \n",
      "  inflating: CovidDataset/Train/Covid/covid-19-pneumonia-mild.JPG  \n",
      "  inflating: CovidDataset/Val/Normal/NORMAL2-IM-0859-0001.jpeg  \n",
      "  inflating: CovidDataset/Val/Normal/NORMAL2-IM-1237-0001.jpeg  \n",
      "  inflating: CovidDataset/Train/Normal/NORMAL2-IM-1103-0001-0001.jpeg  \n",
      "  inflating: CovidDataset/Train/Covid/1-s2.0-S1684118220300682-main.pdf-002-a2.png  \n",
      "  inflating: CovidDataset/Val/Normal/NORMAL2-IM-0535-0001-0002.jpeg  \n",
      "  inflating: CovidDataset/Train/Covid/1.CXRCTThoraximagesofCOVID-19fromSingapore.pdf-003-fig4b.png  \n",
      "  inflating: CovidDataset/Train/Normal/IM-0461-0001.jpeg  \n",
      "  inflating: CovidDataset/Train/Normal/IM-0372-0001.jpeg  \n",
      "  inflating: CovidDataset/Train/Normal/IM-0666-0001-0001.jpeg  \n",
      "  inflating: CovidDataset/Train/Normal/NORMAL2-IM-0840-0001.jpeg  \n",
      "  inflating: CovidDataset/Train/Covid/ryct.2020200034.fig5-day4.jpeg  \n",
      "  inflating: CovidDataset/Train/Normal/NORMAL2-IM-0798-0001.jpeg  \n",
      "  inflating: CovidDataset/Train/Normal/IM-0351-0001.jpeg  \n",
      "  inflating: CovidDataset/Train/Covid/auntminnie-a-2020_01_28_23_51_6665_2020_01_28_Vietnam_coronavirus.jpeg  \n",
      "  inflating: CovidDataset/Train/Covid/1-s2.0-S1684118220300682-main.pdf-002-a1.png  \n",
      "  inflating: CovidDataset/Val/Normal/NORMAL2-IM-1240-0001.jpeg  \n",
      "  inflating: CovidDataset/Train/Covid/93FE0BB1-022D-4F24-9727-987A07975FFB.jpeg  \n",
      "  inflating: CovidDataset/Train/Covid/16660_1_1.jpg  \n",
      "  inflating: CovidDataset/Train/Covid/figure1-5e71be566aa8714a04de3386-98-left.jpeg  \n",
      "  inflating: CovidDataset/Train/Normal/IM-0703-0001.jpeg  \n",
      "  inflating: CovidDataset/Train/Covid/covid-19-pneumonia-7-PA.jpg  \n",
      "  inflating: CovidDataset/Train/Normal/NORMAL2-IM-1277-0001-0002.jpeg  \n",
      "  inflating: CovidDataset/Train/Covid/8FDE8DBA-CFBD-4B4C-B1A4-6F36A93B7E87.jpeg  \n",
      "  inflating: CovidDataset/Train/Normal/IM-0482-0001.jpeg  \n",
      "  inflating: CovidDataset/Train/Normal/IM-0656-0001-0002.jpeg  \n",
      "  inflating: CovidDataset/Train/Covid/16664_1_1.jpg  \n",
      "  inflating: CovidDataset/Train/Normal/IM-0430-0001.jpeg  \n",
      "  inflating: CovidDataset/Train/Covid/covid-19-pneumonia-67.jpeg  \n",
      "  inflating: CovidDataset/Train/Covid/ciaa199.pdf-001-a.png  \n",
      "  inflating: CovidDataset/Train/Normal/IM-0187-0001.jpeg  \n",
      "  inflating: CovidDataset/Val/Normal/NORMAL2-IM-0652-0001.jpeg  \n",
      "  inflating: CovidDataset/Train/Normal/IM-0691-0001.jpeg  \n",
      "  inflating: CovidDataset/Train/Covid/CD50BA96-6982-4C80-AE7B-5F67ACDBFA56.jpeg  \n",
      "  inflating: CovidDataset/Train/Normal/NORMAL2-IM-0976-0001.jpeg  \n",
      "  inflating: CovidDataset/Train/Covid/covid-19-pneumonia-20-pa-on-admission.jpg  \n",
      "  inflating: CovidDataset/Train/Covid/1-s2.0-S0929664620300449-gr2_lrg-c.jpg  \n",
      "  inflating: CovidDataset/Train/Covid/fff49165-b22d-4bb4-b9d1-d5d62c52436c.annot.original.png  \n",
      "  inflating: CovidDataset/Train/Covid/1.CXRCTThoraximagesofCOVID-19fromSingapore.pdf-002-fig3a.png  \n",
      "  inflating: CovidDataset/Val/Normal/NORMAL2-IM-0395-0001.jpeg  \n",
      "  inflating: CovidDataset/Train/Normal/IM-0182-0001.jpeg  \n",
      "  inflating: CovidDataset/Train/Covid/covid-19-pneumonia-evolution-over-a-week-1-day0-PA.jpg  \n",
      "  inflating: CovidDataset/Val/Normal/NORMAL2-IM-0914-0001.jpeg  \n",
      "  inflating: CovidDataset/Train/Covid/covid-19-pneumonia-30-PA.jpg  \n",
      "  inflating: CovidDataset/Train/Covid/nejmc2001573_f1a.jpeg  \n",
      "  inflating: CovidDataset/Train/Covid/kjr-21-e25-g001-l-a.jpg  \n",
      "  inflating: CovidDataset/Val/Normal/NORMAL2-IM-0873-0001.jpeg  \n",
      "  inflating: CovidDataset/Train/Normal/NORMAL2-IM-0501-0001.jpeg  \n",
      "  inflating: CovidDataset/Train/Normal/IM-0667-0001.jpeg  \n",
      "  inflating: CovidDataset/Train/Normal/IM-0551-0001-0002.jpeg  \n",
      "  inflating: CovidDataset/Train/Normal/IM-0176-0001.jpeg  \n",
      "  inflating: CovidDataset/Train/Covid/lancet-case2b.jpg  \n",
      "  inflating: CovidDataset/Train/Normal/IM-0713-0001.jpeg  \n",
      "  inflating: CovidDataset/Train/Covid/all14238-fig-0001-m-c.jpg  \n",
      "  inflating: CovidDataset/Val/Covid/covid-19-pneumonia-14-PA.png  \n",
      "  inflating: CovidDataset/Val/Normal/NORMAL2-IM-0851-0001-0001.jpeg  \n",
      "  inflating: CovidDataset/Train/Normal/NORMAL2-IM-1154-0001-0002.jpeg  \n",
      "  inflating: CovidDataset/Train/Normal/IM-0619-0001.jpeg  \n",
      "  inflating: CovidDataset/Val/Normal/NORMAL2-IM-0441-0001.jpeg  \n",
      "  inflating: CovidDataset/Val/Normal/NORMAL2-IM-0765-0001.jpeg  \n",
      "  inflating: CovidDataset/Train/Normal/IM-0172-0001.jpeg  \n",
      "  inflating: CovidDataset/Train/Normal/IM-0551-0001-0001.jpeg  \n",
      "  inflating: CovidDataset/Train/Covid/gr1_lrg-b.jpg  \n",
      "  inflating: CovidDataset/Train/Covid/1-s2.0-S0929664620300449-gr2_lrg-b.jpg  \n",
      "  inflating: CovidDataset/Train/Normal/IM-0514-0001.jpeg  \n",
      "  inflating: CovidDataset/Train/Covid/covid-19-pneumonia-20.jpg  \n",
      "  inflating: CovidDataset/Train/Normal/IM-0544-0001.jpeg  \n",
      "  inflating: CovidDataset/Val/Normal/NORMAL2-IM-1022-0001.jpeg  \n",
      "  inflating: CovidDataset/Train/Normal/NORMAL2-IM-0935-0001.jpeg  \n",
      "  inflating: CovidDataset/Train/Covid/covid-19-pneumonia-22-day1-pa.png  \n",
      "  inflating: CovidDataset/Train/Normal/NORMAL2-IM-1288-0001.jpeg  \n",
      "  inflating: CovidDataset/Train/Covid/16669_1_1.jpeg  \n",
      "  inflating: CovidDataset/Train/Covid/nejmoa2001191_f4.jpeg  \n",
      "  inflating: CovidDataset/Val/Normal/NORMAL2-IM-0462-0001.jpeg  \n",
      "  inflating: CovidDataset/Val/Normal/NORMAL2-IM-0894-0001.jpeg  \n",
      "  inflating: CovidDataset/Train/Covid/nejmc2001573_f1b.jpeg  \n",
      "  inflating: CovidDataset/Train/Normal/NORMAL2-IM-1094-0001-0001.jpeg  \n",
      "  inflating: CovidDataset/Train/Normal/IM-0543-0001-0002.jpeg  \n",
      "  inflating: CovidDataset/Train/Covid/16669_3_1.jpeg  \n",
      "  inflating: CovidDataset/Train/Covid/covid-19-pneumonia-58-day-7.jpg  \n",
      "  inflating: CovidDataset/Train/Normal/IM-0536-0001.jpeg  \n",
      "  inflating: CovidDataset/Train/Normal/NORMAL2-IM-1214-0001.jpeg  \n",
      "  inflating: CovidDataset/Train/Covid/AR-2.jpg  \n",
      "  inflating: CovidDataset/Train/Covid/9fdd3c3032296fd04d2cad5d9070d4_jumbo.jpeg  \n",
      "  inflating: CovidDataset/Train/Covid/1B734A89-A1BF-49A8-A1D3-66FAFA4FAC5D.jpeg  \n",
      "  inflating: CovidDataset/Train/Normal/IM-0156-0001.jpeg  \n",
      "  inflating: CovidDataset/Train/Normal/NORMAL2-IM-1111-0001.jpeg  \n",
      "  inflating: CovidDataset/Train/Covid/FE9F9A5D-2830-46F9-851B-1FF4534959BE.jpeg  \n",
      "  inflating: CovidDataset/Train/Normal/IM-0429-0001.jpeg  \n",
      "  inflating: CovidDataset/Train/Covid/covid-19-pneumonia-44-day-0.jpeg  \n",
      "  inflating: CovidDataset/Val/Normal/NORMAL2-IM-0869-0001.jpeg  \n",
      "  inflating: CovidDataset/Train/Covid/figure1-5e75d0940b71e1b702629659-98-right.jpeg  \n",
      "  inflating: CovidDataset/Train/Covid/03BF7561-A9BA-4C3C-B8A0-D3E585F73F3C.jpeg  \n",
      "  inflating: CovidDataset/Train/Covid/ciaa199.pdf-001-c.png  \n",
      "  inflating: CovidDataset/Train/Covid/extubation-4.jpg  \n",
      "  inflating: CovidDataset/Train/Normal/IM-0556-0001.jpeg  \n",
      "  inflating: CovidDataset/Train/Covid/1.CXRCTThoraximagesofCOVID-19fromSingapore.pdf-003-fig4a.png  \n",
      "  inflating: CovidDataset/Train/Covid/covid-19-pneumonia-19.jpg  \n",
      "  inflating: CovidDataset/Train/Normal/IM-0392-0001.jpeg  \n",
      "  inflating: CovidDataset/Train/Normal/IM-0530-0001.jpeg  \n",
      "  inflating: CovidDataset/Train/Normal/IM-0261-0001.jpeg  \n",
      "  inflating: CovidDataset/Train/Covid/1312A392-67A3-4EBF-9319-810CF6DA5EF6.jpeg  \n",
      "  inflating: CovidDataset/Train/Normal/IM-0525-0001.jpeg  \n",
      "  inflating: CovidDataset/Train/Covid/lancet-case2a.jpg  \n",
      "  inflating: CovidDataset/Train/Covid/ciaa199.pdf-001-b.png  \n",
      "  inflating: CovidDataset/Train/Normal/NORMAL2-IM-0941-0001.jpeg  \n",
      "  inflating: CovidDataset/Train/Normal/IM-0488-0001.jpeg  \n",
      "  inflating: CovidDataset/Train/Covid/nejmoa2001191_f3-PA.jpeg  \n",
      "  inflating: CovidDataset/Train/Normal/IM-0447-0001.jpeg  \n",
      "  inflating: CovidDataset/Train/Covid/2966893D-5DDF-4B68-9E2B-4979D5956C8E.jpeg  \n",
      "  inflating: CovidDataset/Train/Covid/ryct.2020200028.fig1a.jpeg  \n",
      "  inflating: CovidDataset/Train/Normal/IM-0688-0001.jpeg  \n",
      "  inflating: CovidDataset/Train/Covid/16660_3_1.jpg  \n",
      "  inflating: CovidDataset/Val/Normal/NORMAL2-IM-1045-0001.jpeg  \n",
      "  inflating: CovidDataset/Train/Normal/NORMAL2-IM-0978-0001.jpeg  \n",
      "  inflating: CovidDataset/Train/Covid/2-chest-filmc.jpg  \n",
      "  inflating: CovidDataset/Val/Normal/NORMAL2-IM-0678-0001.jpeg  \n",
      "  inflating: CovidDataset/Train/Normal/NORMAL2-IM-0573-0001.jpeg  \n",
      "  inflating: CovidDataset/Train/Normal/IM-0365-0001.jpeg  \n",
      "  inflating: CovidDataset/Train/Normal/IM-0300-0001.jpeg  \n",
      "  inflating: CovidDataset/Train/Normal/IM-0242-0001.jpeg  \n",
      "  inflating: CovidDataset/Train/Covid/F4341CE7-73C9-45C6-99C8-8567A5484B63.jpeg  \n",
      "  inflating: CovidDataset/Train/Normal/NORMAL2-IM-1019-0001.jpeg  \n",
      "  inflating: CovidDataset/Train/Covid/01E392EE-69F9-4E33-BFCE-E5C968654078.jpeg  \n",
      "  inflating: CovidDataset/Train/Normal/IM-0648-0001.jpeg  \n",
      "  inflating: CovidDataset/Val/Normal/NORMAL2-IM-0408-0001.jpeg  \n",
      "  inflating: CovidDataset/Train/Covid/yxppt-2020-02-19_00-51-27_287214-day8.jpg  \n",
      "  inflating: CovidDataset/Train/Normal/IM-0635-0001.jpeg  \n",
      "  inflating: CovidDataset/Train/Covid/radiol.2020200490.fig3.jpeg  \n",
      "  inflating: CovidDataset/Val/Normal/NORMAL2-IM-1060-0001.jpeg  \n"
     ]
    }
   ],
   "source": [
    "!unzip covid_19"
   ]
  },
  {
   "cell_type": "code",
   "execution_count": 0,
   "metadata": {
    "colab": {},
    "colab_type": "code",
    "id": "D1MyPoO2wSFD"
   },
   "outputs": [],
   "source": [
    "TRAIN_PATH = \"CovidDataset/Train\"\n",
    "VAL_PATH = \"CovidDataset/Val\""
   ]
  },
  {
   "cell_type": "code",
   "execution_count": 4,
   "metadata": {
    "colab": {
     "base_uri": "https://localhost:8080/",
     "height": 34
    },
    "colab_type": "code",
    "id": "pTJlk3Nm6klu",
    "outputId": "a43d4a93-486d-4dee-9a5b-edd25d6c8123"
   },
   "outputs": [
    {
     "name": "stderr",
     "output_type": "stream",
     "text": [
      "Using TensorFlow backend.\n"
     ]
    }
   ],
   "source": [
    "import numpy as np\n",
    "import matplotlib.pyplot as plt\n",
    "import keras\n",
    "from keras.layers import *\n",
    "from keras.models import *\n",
    "from keras.preprocessing import image"
   ]
  },
  {
   "cell_type": "code",
   "execution_count": 0,
   "metadata": {
    "colab": {},
    "colab_type": "code",
    "id": "42M-kR-LwqzC"
   },
   "outputs": [],
   "source": [
    "## CNN Based Model in Keras\n",
    "\n",
    "model = Sequential()\n",
    "model.add(Conv2D(32,kernel_size=(3,3),activation='relu',input_shape=(224,224,3)))\n",
    "model.add(Conv2D(64,kernel_size=(3,3),activation='relu'))\n",
    "model.add(MaxPool2D(pool_size=(2,2)))\n",
    "model.add(Dropout(0.25))\n",
    "\n",
    "model.add(Conv2D(64,kernel_size=(3,3),activation='relu'))\n",
    "model.add(MaxPool2D(pool_size=(2,2)))\n",
    "model.add(Dropout(0.25))\n",
    "\n",
    "model.add(Conv2D(128,kernel_size=(3,3),activation='relu'))\n",
    "model.add(MaxPool2D(pool_size=(2,2)))\n",
    "model.add(Dropout(0.25))\n",
    "\n",
    "model.add(Flatten())\n",
    "model.add(Dense(64,activation='relu'))\n",
    "model.add(Dropout(0.25))\n",
    "model.add(Dense(1,activation='sigmoid'))\n",
    "\n",
    "model.compile(loss='binary_crossentropy',optimizer='adam',metrics=['accuracy'])"
   ]
  },
  {
   "cell_type": "code",
   "execution_count": 6,
   "metadata": {
    "colab": {
     "base_uri": "https://localhost:8080/",
     "height": 629
    },
    "colab_type": "code",
    "id": "t60Pok7472f9",
    "outputId": "f15535ef-0983-46d9-e9af-e363220c5078"
   },
   "outputs": [
    {
     "name": "stdout",
     "output_type": "stream",
     "text": [
      "Model: \"sequential_1\"\n",
      "_________________________________________________________________\n",
      "Layer (type)                 Output Shape              Param #   \n",
      "=================================================================\n",
      "conv2d_1 (Conv2D)            (None, 222, 222, 32)      896       \n",
      "_________________________________________________________________\n",
      "conv2d_2 (Conv2D)            (None, 220, 220, 64)      18496     \n",
      "_________________________________________________________________\n",
      "max_pooling2d_1 (MaxPooling2 (None, 110, 110, 64)      0         \n",
      "_________________________________________________________________\n",
      "dropout_1 (Dropout)          (None, 110, 110, 64)      0         \n",
      "_________________________________________________________________\n",
      "conv2d_3 (Conv2D)            (None, 108, 108, 64)      36928     \n",
      "_________________________________________________________________\n",
      "max_pooling2d_2 (MaxPooling2 (None, 54, 54, 64)        0         \n",
      "_________________________________________________________________\n",
      "dropout_2 (Dropout)          (None, 54, 54, 64)        0         \n",
      "_________________________________________________________________\n",
      "conv2d_4 (Conv2D)            (None, 52, 52, 128)       73856     \n",
      "_________________________________________________________________\n",
      "max_pooling2d_3 (MaxPooling2 (None, 26, 26, 128)       0         \n",
      "_________________________________________________________________\n",
      "dropout_3 (Dropout)          (None, 26, 26, 128)       0         \n",
      "_________________________________________________________________\n",
      "flatten_1 (Flatten)          (None, 86528)             0         \n",
      "_________________________________________________________________\n",
      "dense_1 (Dense)              (None, 64)                5537856   \n",
      "_________________________________________________________________\n",
      "dropout_4 (Dropout)          (None, 64)                0         \n",
      "_________________________________________________________________\n",
      "dense_2 (Dense)              (None, 1)                 65        \n",
      "=================================================================\n",
      "Total params: 5,668,097\n",
      "Trainable params: 5,668,097\n",
      "Non-trainable params: 0\n",
      "_________________________________________________________________\n"
     ]
    }
   ],
   "source": [
    "model.summary()"
   ]
  },
  {
   "cell_type": "code",
   "execution_count": 0,
   "metadata": {
    "colab": {},
    "colab_type": "code",
    "id": "xYvqA-zw75kZ"
   },
   "outputs": [],
   "source": [
    "# Training \n",
    "train_datagen =  image.ImageDataGenerator(\n",
    "    rescale = 1./255,\n",
    "    shear_range = 0.2,\n",
    "    zoom_range = 0.2,\n",
    "    horizontal_flip = True\n",
    ")\n",
    "\n",
    "test_datagen = image.ImageDataGenerator(rescale=1./255)"
   ]
  },
  {
   "cell_type": "code",
   "execution_count": 8,
   "metadata": {
    "colab": {
     "base_uri": "https://localhost:8080/",
     "height": 34
    },
    "colab_type": "code",
    "id": "5q5fnQO78TDe",
    "outputId": "58efd7be-927f-43c8-dec6-6baf57115ad4"
   },
   "outputs": [
    {
     "name": "stdout",
     "output_type": "stream",
     "text": [
      "Found 224 images belonging to 2 classes.\n"
     ]
    }
   ],
   "source": [
    "train_generator = train_datagen.flow_from_directory(\n",
    "    'CovidDataset/Train',\n",
    "    target_size = (224,224),\n",
    "    batch_size = 32,\n",
    "    class_mode = 'binary'\n",
    ")"
   ]
  },
  {
   "cell_type": "code",
   "execution_count": 9,
   "metadata": {
    "colab": {
     "base_uri": "https://localhost:8080/",
     "height": 34
    },
    "colab_type": "code",
    "id": "1xbEXU_m8lW0",
    "outputId": "353e3dd2-52db-416d-9b8d-d593c39936ef"
   },
   "outputs": [
    {
     "data": {
      "text/plain": [
       "{'Covid': 0, 'Normal': 1}"
      ]
     },
     "execution_count": 9,
     "metadata": {
      "tags": []
     },
     "output_type": "execute_result"
    }
   ],
   "source": [
    "train_generator.class_indices"
   ]
  },
  {
   "cell_type": "code",
   "execution_count": 10,
   "metadata": {
    "colab": {
     "base_uri": "https://localhost:8080/",
     "height": 34
    },
    "colab_type": "code",
    "id": "YCkqBURi8qQk",
    "outputId": "48b2b698-320c-40ac-bba2-9e62d1aa0966"
   },
   "outputs": [
    {
     "name": "stdout",
     "output_type": "stream",
     "text": [
      "Found 60 images belonging to 2 classes.\n"
     ]
    }
   ],
   "source": [
    "validation_generator = test_datagen.flow_from_directory(\n",
    "    'CovidDataset/Val',\n",
    "    target_size = (224,224),\n",
    "    batch_size = 32,\n",
    "    class_mode = 'binary'\n",
    ")"
   ]
  },
  {
   "cell_type": "code",
   "execution_count": 11,
   "metadata": {
    "colab": {
     "base_uri": "https://localhost:8080/",
     "height": 357
    },
    "colab_type": "code",
    "id": "9bGZTyZi8x5t",
    "outputId": "0cb8aa75-07d9-4064-c235-ce600faf7230"
   },
   "outputs": [
    {
     "name": "stdout",
     "output_type": "stream",
     "text": [
      "Epoch 1/10\n",
      "8/8 [==============================] - 15s 2s/step - loss: 0.9845 - accuracy: 0.6172 - val_loss: 0.6822 - val_accuracy: 0.5000\n",
      "Epoch 2/10\n",
      "8/8 [==============================] - 11s 1s/step - loss: 0.6295 - accuracy: 0.6758 - val_loss: 0.6019 - val_accuracy: 0.9167\n",
      "Epoch 3/10\n",
      "8/8 [==============================] - 11s 1s/step - loss: 0.4515 - accuracy: 0.8008 - val_loss: 0.3757 - val_accuracy: 0.9333\n",
      "Epoch 4/10\n",
      "8/8 [==============================] - 11s 1s/step - loss: 0.4369 - accuracy: 0.8203 - val_loss: 0.3753 - val_accuracy: 0.9500\n",
      "Epoch 5/10\n",
      "8/8 [==============================] - 11s 1s/step - loss: 0.2360 - accuracy: 0.9219 - val_loss: 0.1881 - val_accuracy: 0.9667\n",
      "Epoch 6/10\n",
      "8/8 [==============================] - 10s 1s/step - loss: 0.2351 - accuracy: 0.9141 - val_loss: 0.1920 - val_accuracy: 0.9833\n",
      "Epoch 7/10\n",
      "8/8 [==============================] - 11s 1s/step - loss: 0.1404 - accuracy: 0.9453 - val_loss: 0.0920 - val_accuracy: 0.9667\n",
      "Epoch 8/10\n",
      "8/8 [==============================] - 11s 1s/step - loss: 0.1379 - accuracy: 0.9531 - val_loss: 0.1694 - val_accuracy: 0.9500\n",
      "Epoch 9/10\n",
      "8/8 [==============================] - 11s 1s/step - loss: 0.1380 - accuracy: 0.9609 - val_loss: 0.1208 - val_accuracy: 0.9667\n",
      "Epoch 10/10\n",
      "8/8 [==============================] - 11s 1s/step - loss: 0.1215 - accuracy: 0.9570 - val_loss: 0.1467 - val_accuracy: 0.9667\n"
     ]
    }
   ],
   "source": [
    "hist = model.fit_generator(\n",
    "    train_generator,\n",
    "    steps_per_epoch = 8,\n",
    "    epochs = 10,\n",
    "    validation_data = validation_generator,\n",
    "    validation_steps = 2\n",
    ")"
   ]
  },
  {
   "cell_type": "code",
   "execution_count": 0,
   "metadata": {
    "colab": {},
    "colab_type": "code",
    "id": "fS9e9wZP9Hpq"
   },
   "outputs": [],
   "source": [
    "# TODO-\n",
    "# Class Activation Maps\n",
    "# Grad CAM"
   ]
  },
  {
   "cell_type": "code",
   "execution_count": 12,
   "metadata": {
    "colab": {
     "base_uri": "https://localhost:8080/",
     "height": 361
    },
    "colab_type": "code",
    "id": "xBvnSIK69fZk",
    "outputId": "eded2d44-08ee-40c3-d301-a2a7ed8ba10f"
   },
   "outputs": [
    {
     "data": {
      "image/png": "[encoded data removed]",
      "text/plain": [
       "<Figure size 576x396 with 1 Axes>"
      ]
     },
     "metadata": {
      "tags": []
     },
     "output_type": "display_data"
    }
   ],
   "source": [
    "# Visualization\n",
    "import matplotlib.pyplot as plt\n",
    "\n",
    "h = hist.history\n",
    "plt.style.use('seaborn')\n",
    "plt.plot(h['loss'],label='Training Loss')\n",
    "plt.plot(h['val_loss'],label='Validation Loss')\n",
    "plt.legend()\n",
    "plt.xlabel('Epochs')\n",
    "plt.ylabel('Loss')\n",
    "plt.show()"
   ]
  },
  {
   "cell_type": "code",
   "execution_count": 13,
   "metadata": {
    "colab": {
     "base_uri": "https://localhost:8080/",
     "height": 361
    },
    "colab_type": "code",
    "id": "R-3f9xXR9yOA",
    "outputId": "1bc49865-57e6-4407-9695-68817d400ed5"
   },
   "outputs": [
    {
     "data": {
      "image/png": "[encoded data removed]",
      "text/plain": [
       "<Figure size 576x396 with 1 Axes>"
      ]
     },
     "metadata": {
      "tags": []
     },
     "output_type": "display_data"
    }
   ],
   "source": [
    "plt.style.use('seaborn')\n",
    "plt.plot(h['accuracy'],label='Training Accuracy')\n",
    "plt.plot(h['val_accuracy'],label='Validation Accuracy')\n",
    "plt.legend()\n",
    "plt.xlabel('Epochs')\n",
    "plt.ylabel('Accuracy')\n",
    "plt.show()"
   ]
  },
  {
   "cell_type": "code",
   "execution_count": 0,
   "metadata": {
    "colab": {},
    "colab_type": "code",
    "id": "XIQSC7x1-Eyx"
   },
   "outputs": [],
   "source": [
    "## Plot confusion Matrix\n",
    "from pathlib import Path\n",
    "dirs = Path(TRAIN_PATH).glob(\"*\")\n",
    "train_imgs = []\n",
    "label = []\n",
    "for each_dir in dirs:\n",
    "\n",
    "  files = each_dir.glob(\"*\")\n",
    "  for each_file in files:\n",
    "    img = image.load_img(each_file,target_size=(224,224))\n",
    "    img_arr = image.img_to_array(img)/255.0\n",
    "    train_imgs.append(img_arr)\n",
    "    if str(each_dir).split(\"/\")[-1] == \"Normal\":\n",
    "      label.append(1)\n",
    "    else:\n",
    "      label.append(0)\n"
   ]
  },
  {
   "cell_type": "code",
   "execution_count": 0,
   "metadata": {
    "colab": {},
    "colab_type": "code",
    "id": "wF8f0yH1sfus"
   },
   "outputs": [],
   "source": [
    "train_imgs = np.array(train_imgs)"
   ]
  },
  {
   "cell_type": "code",
   "execution_count": 71,
   "metadata": {
    "colab": {
     "base_uri": "https://localhost:8080/",
     "height": 34
    },
    "colab_type": "code",
    "id": "yq0cv21Yt_BQ",
    "outputId": "66ead2ea-988f-4f45-a1e1-c9ae23b155f9"
   },
   "outputs": [
    {
     "name": "stdout",
     "output_type": "stream",
     "text": [
      "(224, 224, 224, 3)\n"
     ]
    }
   ],
   "source": [
    "print(train_imgs.shape)"
   ]
  },
  {
   "cell_type": "code",
   "execution_count": 0,
   "metadata": {
    "colab": {},
    "colab_type": "code",
    "id": "qIxtWXW0v-CS"
   },
   "outputs": [],
   "source": [
    "from sklearn.utils import shuffle\n",
    "train_imgs,label = shuffle(train_imgs,label,random_state=2)"
   ]
  },
  {
   "cell_type": "code",
   "execution_count": 0,
   "metadata": {
    "colab": {},
    "colab_type": "code",
    "id": "fDHhf9Q2uLAZ"
   },
   "outputs": [],
   "source": [
    "outputs = model.predict_classes(train_imgs)"
   ]
  },
  {
   "cell_type": "code",
   "execution_count": 0,
   "metadata": {
    "colab": {},
    "colab_type": "code",
    "id": "s2izWVV8xEFA"
   },
   "outputs": [],
   "source": [
    "\n",
    "### Use Directly - adapted from http://scikit-learn.org/stable/auto_examples/model_selection/plot_confusion_matrix.html\n",
    "import itertools\n",
    "import matplotlib.pyplot as plt\n",
    "import numpy as np\n",
    "def plot_confusion_matrix(cm, classes,\n",
    "                          normalize=False,\n",
    "                          title='Confusion matrix',\n",
    "                          cmap=plt.cm.Blues):\n",
    "    \"\"\"\n",
    "    This function prints and plots the confusion matrix.\n",
    "    Normalization can be applied by setting `normalize=True`.\n",
    "    \"\"\"\n",
    "    if normalize:\n",
    "        cm = cm.astype('float') / cm.sum(axis=1)[:, np.newaxis]\n",
    "        print(\"Normalized confusion matrix\")\n",
    "    else:\n",
    "        print('Confusion matrix, without normalization')\n",
    "\n",
    "    print(cm)\n",
    "\n",
    "    plt.imshow(cm, interpolation='nearest', cmap=cmap)\n",
    "    plt.title(title)\n",
    "    plt.colorbar()\n",
    "    tick_marks = np.arange(len(classes))\n",
    "    plt.xticks(tick_marks, classes, rotation=45)\n",
    "    plt.yticks(tick_marks, classes)\n",
    "\n",
    "    fmt = '.2f' if normalize else 'd'\n",
    "    thresh = cm.max() / 2.\n",
    "    for i, j in itertools.product(range(cm.shape[0]), range(cm.shape[1])):\n",
    "        plt.text(j, i, format(cm[i, j], fmt),\n",
    "                 horizontalalignment=\"center\",\n",
    "                 color=\"white\" if cm[i, j] > thresh else \"black\")\n",
    "\n",
    "    plt.ylabel('True label')\n",
    "    plt.xlabel('Predicted label')\n",
    "    plt.tight_layout()"
   ]
  },
  {
   "cell_type": "code",
   "execution_count": 75,
   "metadata": {
    "colab": {
     "base_uri": "https://localhost:8080/",
     "height": 51
    },
    "colab_type": "code",
    "id": "qHqV5vzqwawU",
    "outputId": "36b23625-441d-4e7c-faa2-f7365cb088ce"
   },
   "outputs": [
    {
     "name": "stdout",
     "output_type": "stream",
     "text": [
      "[[110   2]\n",
      " [  2 110]]\n"
     ]
    }
   ],
   "source": [
    "from sklearn.metrics import confusion_matrix\n",
    "cnf_matrix = confusion_matrix(outputs,label)\n",
    "print(cnf_matrix)"
   ]
  },
  {
   "cell_type": "code",
   "execution_count": 0,
   "metadata": {
    "colab": {},
    "colab_type": "code",
    "id": "LeW5YAoBx0Y0"
   },
   "outputs": [],
   "source": []
  },
  {
   "cell_type": "code",
   "execution_count": 76,
   "metadata": {
    "colab": {
     "base_uri": "https://localhost:8080/",
     "height": 456
    },
    "colab_type": "code",
    "id": "cVnraFA-wgJS",
    "outputId": "0b67ab77-96cf-42a5-cc56-989d65948d39"
   },
   "outputs": [
    {
     "name": "stdout",
     "output_type": "stream",
     "text": [
      "Confusion matrix, without normalization\n",
      "[[110   2]\n",
      " [  2 110]]\n"
     ]
    },
    {
     "data": {
      "image/png": "[encoded data removed]",
      "text/plain": [
       "<Figure size 576x396 with 2 Axes>"
      ]
     },
     "metadata": {
      "tags": []
     },
     "output_type": "display_data"
    }
   ],
   "source": [
    "plot_confusion_matrix(cnf_matrix,classes=[\"Covid\",\"Normal\"],title=\"Training Confusion Matrix\")"
   ]
  },
  {
   "cell_type": "code",
   "execution_count": 0,
   "metadata": {
    "colab": {},
    "colab_type": "code",
    "id": "FFITep9WxlSe"
   },
   "outputs": [],
   "source": [
    "## Plot confusion Matrix\n",
    "dirs = Path(VAL_PATH).glob(\"*\")\n",
    "test_imgs = []\n",
    "test_label = []\n",
    "for each_dir in dirs:\n",
    "\n",
    "  files = each_dir.glob(\"*\")\n",
    "  for each_file in files:\n",
    "\n",
    "    img = image.load_img(each_file,target_size=(224,224))\n",
    "    img_arr = image.img_to_array(img)/255.0\n",
    "    test_imgs.append(img_arr)\n",
    "    if str(each_dir).split(\"/\")[-1] == \"Normal\":\n",
    "      test_label.append(1)\n",
    "    else:\n",
    "      test_label.append(0)\n"
   ]
  },
  {
   "cell_type": "code",
   "execution_count": 0,
   "metadata": {
    "colab": {},
    "colab_type": "code",
    "id": "ZBp59MhwyH25"
   },
   "outputs": [],
   "source": [
    "test_imgs = np.array(test_imgs)"
   ]
  },
  {
   "cell_type": "code",
   "execution_count": 79,
   "metadata": {
    "colab": {
     "base_uri": "https://localhost:8080/",
     "height": 34
    },
    "colab_type": "code",
    "id": "nyf7dme6ychc",
    "outputId": "c76960ac-be9b-43ba-ddd0-96abb1cd7c1f"
   },
   "outputs": [
    {
     "name": "stdout",
     "output_type": "stream",
     "text": [
      "(60, 224, 224, 3)\n"
     ]
    }
   ],
   "source": [
    "print(test_imgs.shape)"
   ]
  },
  {
   "cell_type": "code",
   "execution_count": 0,
   "metadata": {
    "colab": {},
    "colab_type": "code",
    "id": "KVd8now8yTS-"
   },
   "outputs": [],
   "source": [
    "test_imgs,test_label = shuffle(test_imgs,test_label,random_state=2)\n",
    "preds = model.predict_classes(test_imgs)"
   ]
  },
  {
   "cell_type": "code",
   "execution_count": 81,
   "metadata": {
    "colab": {
     "base_uri": "https://localhost:8080/",
     "height": 51
    },
    "colab_type": "code",
    "id": "ZOzx6WJPyYtz",
    "outputId": "7df48273-3606-4b53-bcd6-4eae633f2d98"
   },
   "outputs": [
    {
     "name": "stdout",
     "output_type": "stream",
     "text": [
      "[[30  2]\n",
      " [ 0 28]]\n"
     ]
    }
   ],
   "source": [
    "test_cnf_matrix = confusion_matrix(preds,test_label)\n",
    "print(test_cnf_matrix)"
   ]
  },
  {
   "cell_type": "code",
   "execution_count": 82,
   "metadata": {
    "colab": {
     "base_uri": "https://localhost:8080/",
     "height": 456
    },
    "colab_type": "code",
    "id": "sOG4_uM5zksq",
    "outputId": "4ca7ef9d-1cdb-4bc9-c801-1168bbf2500c"
   },
   "outputs": [
    {
     "name": "stdout",
     "output_type": "stream",
     "text": [
      "Confusion matrix, without normalization\n",
      "[[30  2]\n",
      " [ 0 28]]\n"
     ]
    },
    {
     "data": {
      "image/png": "[encoded data removed]",
      "text/plain": [
       "<Figure size 576x396 with 2 Axes>"
      ]
     },
     "metadata": {
      "tags": []
     },
     "output_type": "display_data"
    }
   ],
   "source": [
    "plot_confusion_matrix(test_cnf_matrix,classes=[\"Covid\",\"Normal\"],title=\"Testing Confusion Matrix\")"
   ]
  },
  {
   "cell_type": "code",
   "execution_count": 0,
   "metadata": {
    "colab": {},
    "colab_type": "code",
    "id": "2S-kLppWz4A1"
   },
   "outputs": [],
   "source": []
  }
 ],
 "metadata": {
  "accelerator": "GPU",
  "colab": {
   "collapsed_sections": [],
   "name": "Covid-19 Classifier.ipynb",
   "provenance": []
  },
  "kernelspec": {
   "display_name": "Python 3",
   "language": "python",
   "name": "python3"
  },
  "language_info": {
   "codemirror_mode": {
    "name": "ipython",
    "version": 3
   },
   "file_extension": ".py",
   "mimetype": "text/x-python",
   "name": "python",
   "nbconvert_exporter": "python",
   "pygments_lexer": "ipython3",
   "version": "3.8.1"
  }
 },
 "nbformat": 4,
 "nbformat_minor": 1
}
